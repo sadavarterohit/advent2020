{
 "cells": [
  {
   "cell_type": "markdown",
   "metadata": {},
   "source": [
    "# Part - 1\n",
    "After saving Christmas five years in a row, you've decided to take a vacation at a nice resort on a tropical island. Surely, Christmas will go on without you.\n",
    "\n",
    "The tropical island has its own currency and is entirely cash-only. The gold coins used there have a little picture of a starfish; the locals just call them stars. None of the currency exchanges seem to have heard of them, but somehow, you'll need to find fifty of these coins by the time you arrive so you can pay the deposit on your room.\n",
    "\n",
    "To save your vacation, you need to get all fifty stars by December 25th.\n",
    "\n",
    "Collect stars by solving puzzles. Two puzzles will be made available on each day in the Advent calendar; the second puzzle is unlocked when you complete the first. Each puzzle grants one star. Good luck!\n",
    "\n",
    "Before you leave, the Elves in accounting just need you to fix your expense report (your puzzle input); apparently, something isn't quite adding up.\n",
    "\n",
    "Specifically, they need you to find the two entries that sum to 2020 and then multiply those two numbers together.\n",
    "\n",
    "For example, suppose your expense report contained the following:\n",
    "\n",
    "1721   \n",
    "979   \n",
    "366   \n",
    "299   \n",
    "675   \n",
    "1456   \n",
    "   \n",
    "In this list, the two entries that sum to 2020 are 1721 and 299. Multiplying them together produces 1721 * 299 = 514579, so the correct answer is 514579.\n",
    "\n",
    "Of course, your expense report is much larger. Find the two entries that sum to 2020; what do you get if you multiply them together?"
   ]
  },
  {
   "cell_type": "code",
   "execution_count": 8,
   "metadata": {},
   "outputs": [
    {
     "name": "stdout",
     "output_type": "stream",
     "text": [
      "1939 1585 1712 1600 1370 1447 1247 1446 1323 1713 1277 1946 1677 1428 1231 1481 1976 1709 1508 1668 1302 77 1351 1605 1999 1982 1583 1756 1957 1624 1745 1938 1784 1403 1642 1691 569 1762 1555 1937 1383 1897 1334 1965 1683 1475 1776 1791 1707 1987 1233 1416 1769 1345 1874 1255 1744 1944 1404 1360 1304 1417 1977 1656 790 1788 1353 1296 1673 1810 1684 1742 1425 1887 1444 1352 1229 1414 1493 1402 1947 1669 1412 1531 1474 1637 1314 1607 1829 1923 1949 1757 1307 1714 1748 1550 1372 1615 1235 1272 1408 1749 1687 1613 1528 1561 341 1308 1660 1667 1313 1991 1675 1394 1704 1303 1440 1592 1857 1752 1839 1397 1699 1426 1878 1759 1814 1096 372 1596 1500 1774 1627 1696 1851 1020 1819 1292 1616 1672 1279 1543 1526 1682 1568 1582 1921 922 1773 1482 1238 1973 1517 1909 409 1634 1468 1445 1801 1631 1407 1820 1603 1495 1333 1241 1849 82 1339 1413 90 1662 1291 1740 1340 1365 2003 1546 1621 1650 1518 1807 1382 1433 1968 1940 1986 1437 1651 1237 1862 1409 1200 2002 2009 1735 1487 1706 1643 1505\n",
      "158916\n"
     ]
    }
   ],
   "source": [
    "dic={}\n",
    "a=map(int,input().split())\n",
    "for i in a:\n",
    "    if((2020-i) in dic):\n",
    "        print(i*(2020-i))\n",
    "\n",
    "    dic[i]=1"
   ]
  },
  {
   "cell_type": "markdown",
   "metadata": {},
   "source": [
    "# Part - 2\n",
    "\n",
    "The Elves in accounting are thankful for your help; one of them even offers you a starfish coin they had left over from a past vacation. They offer you a second one if you can find three numbers in your expense report that meet the same criteria.\n",
    "\n",
    "Using the above example again, the three entries that sum to 2020 are 979, 366, and 675. Multiplying them together produces the answer, 241861950.\n",
    "\n",
    "In your expense report, what is the product of the three entries that sum to 2020?\n"
   ]
  },
  {
   "cell_type": "code",
   "execution_count": 19,
   "metadata": {},
   "outputs": [
    {
     "name": "stdout",
     "output_type": "stream",
     "text": [
      "165795564\n"
     ]
    }
   ],
   "source": [
    "dic={}\n",
    "a=list(a)\n",
    "b=False            #otherwise it breaks only one loop\n",
    "for i in a:\n",
    "    for j in a:\n",
    "        if(((2020-i-j) in dic.keys())==True):\n",
    "            print((i*j*(2020-i-j)))\n",
    "            b=True\n",
    "            break\n",
    "        dic[j] = 1\n",
    "    if(b):\n",
    "        break\n",
    "        \n",
    "        \n",
    "        \n",
    "    \n",
    "        "
   ]
  },
  {
   "cell_type": "code",
   "execution_count": null,
   "metadata": {},
   "outputs": [],
   "source": []
  }
 ],
 "metadata": {
  "kernelspec": {
   "display_name": "Python 3",
   "language": "python",
   "name": "python3"
  },
  "language_info": {
   "codemirror_mode": {
    "name": "ipython",
    "version": 3
   },
   "file_extension": ".py",
   "mimetype": "text/x-python",
   "name": "python",
   "nbconvert_exporter": "python",
   "pygments_lexer": "ipython3",
   "version": "3.8.3"
  }
 },
 "nbformat": 4,
 "nbformat_minor": 4
}
