{
 "cells": [
  {
   "cell_type": "markdown",
   "metadata": {},
   "source": [
    "# Part -1\n",
    "\n",
    "Your flight departs in a few days from the coastal airport; the easiest way down to the coast from here is via toboggan.\n",
    "\n",
    "The shopkeeper at the North Pole Toboggan Rental Shop is having a bad day. \"Something's wrong with our computers; we can't log in!\" You ask if you can take a look.\n",
    "\n",
    "Their password database seems to be a little corrupted: some of the passwords wouldn't have been allowed by the Official Toboggan Corporate Policy that was in effect when they were chosen.\n",
    "\n",
    "To try to debug the problem, they have created a list (your puzzle input) of passwords (according to the corrupted database) and the corporate policy when that password was set.\n",
    "\n",
    "For example, suppose you have the following list:   \n",
    "   \n",
    "1-3 a: abcde   \n",
    "1-3 b: cdefg   \n",
    "2-9 c: ccccccccc   \n",
    "Each line gives the password policy and then the password. The password policy indicates the lowest and highest number of times a given letter must appear for the password to be valid. For example, 1-3 a means that the password must contain a at least 1 time and at most 3 times.\n",
    "\n",
    "In the above example, 2 passwords are valid. The middle password, cdefg, is not; it contains no instances of b, but needs at least 1. The first and third passwords are valid: they contain one a or nine c, both within the limits of their respective policies.\n",
    "\n",
    "How many passwords are valid according to their policies?"
   ]
  },
  {
   "cell_type": "code",
   "execution_count": 3,
   "metadata": {},
   "outputs": [],
   "source": [
    "f=open('input.txt','r').read()\n",
    "a=list(f.split())"
   ]
  },
  {
   "cell_type": "code",
   "execution_count": 7,
   "metadata": {},
   "outputs": [
    {
     "name": "stdout",
     "output_type": "stream",
     "text": [
      "500\n"
     ]
    }
   ],
   "source": [
    "#spaces seperate it, so let's work with that\n",
    "\n",
    "i=0\n",
    "tc=0  #total count \n",
    "while(i<len(a)):\n",
    "    l,r=map(int,a[i].split('-'))\n",
    "    i+=1\n",
    "    alpha=a[i][0]\n",
    "    i+=1\n",
    "    word=a[i]\n",
    "    i+=1\n",
    "    count=0\n",
    "    for j in word:\n",
    "        if(j==alpha):\n",
    "            count+=1\n",
    "    if(l<=count<=r):\n",
    "        tc+=1\n",
    "print(tc)\n",
    "    "
   ]
  },
  {
   "cell_type": "markdown",
   "metadata": {},
   "source": [
    "# Part-2\n",
    "While it appears you validated the passwords correctly, they don't seem to be what the Official Toboggan Corporate Authentication System is expecting.\n",
    "\n",
    "The shopkeeper suddenly realizes that he just accidentally explained the password policy rules from his old job at the sled rental place down the street! The Official Toboggan Corporate Policy actually works a little differently.\n",
    "\n",
    "Each policy actually describes two positions in the password, where 1 means the first character, 2 means the second character, and so on. (Be careful; Toboggan Corporate Policies have no concept of \"index zero\"!) Exactly one of these positions must contain the given letter. Other occurrences of the letter are irrelevant for the purposes of policy enforcement.\n",
    "\n",
    "Given the same example list from above:    \n",
    "\n",
    "1-3 a: abcde is valid: position 1 contains a and position 3 does not.    \n",
    "1-3 b: cdefg is invalid: neither position 1 nor position 3 contains b.    \n",
    "2-9 c: ccccccccc is invalid: both position 2 and position 9 contain c.    \n",
    "How many passwords are valid according to the new interpretation of the policies?    "
   ]
  },
  {
   "cell_type": "code",
   "execution_count": 6,
   "metadata": {},
   "outputs": [
    {
     "name": "stdout",
     "output_type": "stream",
     "text": [
      "313\n"
     ]
    }
   ],
   "source": [
    "i=0\n",
    "tc=0\n",
    "while(i<len(a)):\n",
    "    l,r=map(int,a[i].split('-'))\n",
    "    i+=1\n",
    "    alpha=a[i][0]\n",
    "    i+=1\n",
    "    word=a[i]\n",
    "    i+=1\n",
    "    \n",
    "    \n",
    "    \n",
    "    \n",
    "    if((word[l-1]==alpha and (not (word[r-1]==alpha))) or (word[r-1]==alpha and (not (word[l-1]==alpha)))):\n",
    "        tc+=1\n",
    "        #print(word,alpha,l,r)\n",
    "        \n",
    "print(tc)\n",
    "    \n",
    "       "
   ]
  },
  {
   "cell_type": "code",
   "execution_count": null,
   "metadata": {},
   "outputs": [],
   "source": []
  }
 ],
 "metadata": {
  "kernelspec": {
   "display_name": "Python 3",
   "language": "python",
   "name": "python3"
  },
  "language_info": {
   "codemirror_mode": {
    "name": "ipython",
    "version": 3
   },
   "file_extension": ".py",
   "mimetype": "text/x-python",
   "name": "python",
   "nbconvert_exporter": "python",
   "pygments_lexer": "ipython3",
   "version": "3.8.3"
  }
 },
 "nbformat": 4,
 "nbformat_minor": 4
}
