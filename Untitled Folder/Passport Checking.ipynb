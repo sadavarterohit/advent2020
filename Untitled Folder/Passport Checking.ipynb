{
 "cells": [
  {
   "cell_type": "markdown",
   "metadata": {},
   "source": [
    "# Part -1 \n",
    "You arrive at the airport only to realize that you grabbed your North Pole Credentials instead of your passport. While these documents are extremely similar, North Pole Credentials aren't issued by a country and therefore aren't actually valid documentation for travel in most of the world.\n",
    "\n",
    "It seems like you're not the only one having problems, though; a very long line has formed for the automatic passport scanners, and the delay could upset your travel itinerary.\n",
    "\n",
    "Due to some questionable network security, you realize you might be able to solve both of these problems at the same time.\n",
    "\n",
    "The automatic passport scanners are slow because they're having trouble detecting which passports have all required fields. The expected fields are as follows:\n",
    "\n",
    "    byr (Birth Year)\n",
    "    iyr (Issue Year)\n",
    "    eyr (Expiration Year)\n",
    "    hgt (Height)\n",
    "    hcl (Hair Color)\n",
    "    ecl (Eye Color)\n",
    "    pid (Passport ID)\n",
    "    cid (Country ID)\n",
    "    \n",
    "Passport data is validated in batch files (your puzzle input). Each passport is represented as a sequence of key:value pairs separated by spaces or newlines. Passports are separated by blank lines."
   ]
  },
  {
   "cell_type": "code",
   "execution_count": 4,
   "metadata": {},
   "outputs": [
    {
     "name": "stdout",
     "output_type": "stream",
     "text": [
      "254\n"
     ]
    }
   ],
   "source": [
    "f=open('input.txt','r')\n",
    "\n",
    "#print(f)\n",
    "dic={'byr':0,'iyr':0,'eyr':0,'hgt':0,'hcl':0,'ecl':0,'pid':0}\n",
    "dic1={'byr':'','iyr':'','eyr':'','hgt':'','hcl':'','ecl':'','pid':''}\n",
    "t=dic.copy()\n",
    "val=dic1.copy()\n",
    "c=0\n",
    "tc=0\n",
    "f=list(f)\n",
    "#print(f)\n",
    "for i in f:\n",
    "    \n",
    "    if(i=='\\n'):\n",
    "        if(sum(t.values()) == 7):\n",
    "            c+=1\n",
    "        t=dic.copy()\n",
    "        val=dic1.copy()\n",
    "    else:\n",
    "        for j in dic.keys():\n",
    "            if(j+':' in i):\n",
    "                t[j]=1\n",
    "                for k in i.split():\n",
    "                    if(k.startswith(j)):\n",
    "                        val[j]=k[4:]\n",
    "                \n",
    "                        \n",
    "            \n",
    "    \n",
    "print(c)\n",
    "\n",
    "    \n",
    "        "
   ]
  },
  {
   "cell_type": "markdown",
   "metadata": {},
   "source": [
    "# Part-2 \n",
    "The line is moving more quickly now, but you overhear airport security talking about how passports with invalid data are getting through. Better add some data validation, quick!\n",
    "\n",
    "You can continue to ignore the cid field, but each other field has strict rules about what values are valid for automatic validation:\n",
    "\n",
    "    byr (Birth Year) - four digits; at least 1920 and at most 2002.\n",
    "    iyr (Issue Year) - four digits; at least 2010 and at most 2020.\n",
    "    eyr (Expiration Year) - four digits; at least 2020 and at most 2030.\n",
    "    hgt (Height) - a number followed by either cm or in:\n",
    "    If cm, the number must be at least 150 and at most 193.\n",
    "    If in, the number must be at least 59 and at most 76.\n",
    "    hcl (Hair Color) - a # followed by exactly six characters 0-9 or a-f.\n",
    "    ecl (Eye Color) - exactly one of: amb blu brn gry grn hzl oth.\n",
    "    pid (Passport ID) - a nine-digit number, including leading zeroes.\n",
    "    cid (Country ID) - ignored, missing or not.\n",
    "Your job is to count the passports where all required fields are both present and valid according to the above rules"
   ]
  },
  {
   "cell_type": "code",
   "execution_count": 5,
   "metadata": {},
   "outputs": [],
   "source": [
    "#For some reason yet unknown to me, it is returning a value greater than the answer, spent 2 hours breaking my head over it.\n",
    "#For the love of god, redo, it's absolutely shit code to read/edit/anything else."
   ]
  },
  {
   "cell_type": "code",
   "execution_count": 8,
   "metadata": {},
   "outputs": [],
   "source": [
    "def isint(i):\n",
    "    try:\n",
    "        i=int(i)\n",
    "        return True\n",
    "    except:\n",
    "        return False\n",
    "\n",
    "    \n",
    "def check(i):\n",
    "    for j in i:\n",
    "        if(not j in '0123456789abcdef'):\n",
    "            return False\n",
    "    return True"
   ]
  },
  {
   "cell_type": "code",
   "execution_count": 10,
   "metadata": {},
   "outputs": [
    {
     "name": "stdout",
     "output_type": "stream",
     "text": [
      "184 hahahahaha, evil laughter\n"
     ]
    }
   ],
   "source": [
    "f=open('input.txt','r')\n",
    "#print(f)\n",
    "\n",
    "dic={'byr':0,'iyr':0,'eyr':0,'hgt':0,'hcl':0,'ecl':0,'pid':0}\n",
    "dic1={'byr':'','iyr':'','eyr':'','hgt':'','hcl':'','ecl':'','pid':''}\n",
    "t=dic.copy()\n",
    "val=dic1.copy()\n",
    "c=0\n",
    "tc=0\n",
    "f=list(f)\n",
    "\n",
    "for i in f:\n",
    "    if(i=='\\n'):\n",
    "        tc=0\n",
    "        if(sum(t.values()) == 7):\n",
    "            if((isint(val['byr'])) and (len(val['byr'])==4) and (int(val['byr'])<=2002) and (int(val['byr'])>=1920)):\n",
    "                tc+=1\n",
    "            if((isint(val['iyr'])) and (len(val['iyr'])==4) and (int(val['iyr'])<=2020) and (int(val['iyr'])>=2010)):\n",
    "                tc+=1\n",
    "            if((val['hgt'].endswith('cm')) and (isint(val['hgt'][:-2])) and (int(val['hgt'][:-2])<=193) and (int(val['hgt'][:-2])>=150)):\n",
    "                tc+=1\n",
    "            elif((val['hgt'].endswith('in')) and (isint(val['hgt'][:-2])) and (isint(val['hgt'][:-2])<=76) and (int(val['hgt'][:-2])>=59)):\n",
    "                tc+=1\n",
    "            if((val['ecl']=='amb') or (val['ecl']=='blu') or (val['ecl']=='brn') or (val['ecl']=='gry') or (val['ecl']=='grn') or (val['ecl']=='hzl') or (val['ecl']=='oth')):\n",
    "                tc+=1\n",
    "            if((len(val['pid'])==9) and (isint(val['pid']))):\n",
    "                tc+=1\n",
    "            if(isint(val['eyr']) and (len(val['eyr'])==4) and (int(val['eyr'])<=2030) and (int(val['eyr'])>=2020)):\n",
    "                tc+=1\n",
    "            if(len(val['hcl'])==7):    \n",
    "                if(val['hcl'][0]=='#'):\n",
    "                    #print(val['hcl'])\n",
    "                    if(check(val['hcl'][1:])):\n",
    "                        tc+=1\n",
    "            if(tc==7):\n",
    "                c+=1\n",
    "        t=dic.copy() \n",
    "        val=dic1.copy()\n",
    "    else:\n",
    "        for j in dic.keys():\n",
    "            if(j in i):\n",
    "                t[j]=1\n",
    "                for k in i.split():\n",
    "                    if(k.startswith(j)):\n",
    "                        val[j]=k[4:]\n",
    "    \n",
    "print(c-1,\"hahahahaha, evil laughter\")\n",
    "    \n",
    "        "
   ]
  },
  {
   "cell_type": "code",
   "execution_count": null,
   "metadata": {},
   "outputs": [],
   "source": []
  }
 ],
 "metadata": {
  "kernelspec": {
   "display_name": "Python 3",
   "language": "python",
   "name": "python3"
  },
  "language_info": {
   "codemirror_mode": {
    "name": "ipython",
    "version": 3
   },
   "file_extension": ".py",
   "mimetype": "text/x-python",
   "name": "python",
   "nbconvert_exporter": "python",
   "pygments_lexer": "ipython3",
   "version": "3.8.3"
  }
 },
 "nbformat": 4,
 "nbformat_minor": 4
}
