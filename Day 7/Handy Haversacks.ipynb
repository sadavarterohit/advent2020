{
 "cells": [
  {
   "cell_type": "code",
   "execution_count": 131,
   "metadata": {},
   "outputs": [],
   "source": [
    "f=open('input.txt','r').read().split('\\n')"
   ]
  },
  {
   "cell_type": "markdown",
   "metadata": {},
   "source": [
    "# Part -1\n",
    "\n",
    "You land at the regional airport in time for your next flight. In fact, it looks like you'll even have time to grab some food: all flights are currently delayed due to issues in luggage processing.\n",
    "\n",
    "Due to recent aviation regulations, many rules (your puzzle input) are being enforced about bags and their contents; bags must be color-coded and must contain specific quantities of other color-coded bags. Apparently, nobody responsible for these regulations considered how long they would take to enforce!\n",
    "\n",
    "For example, consider the following rules:\n",
    "\n",
    "    light red bags contain 1 bright white bag, 2 muted yellow bags.\n",
    "    dark orange bags contain 3 bright white bags, 4 muted yellow bags.\n",
    "    bright white bags contain 1 shiny gold bag.\n",
    "    muted yellow bags contain 2 shiny gold bags, 9 faded blue bags.\n",
    "    shiny gold bags contain 1 dark olive bag, 2 vibrant plum bags.\n",
    "    dark olive bags contain 3 faded blue bags, 4 dotted black bags.\n",
    "    vibrant plum bags contain 5 faded blue bags, 6 dotted black bags.\n",
    "    faded blue bags contain no other bags.\n",
    "    dotted black bags contain no other bags.\n",
    "    \n",
    "These rules specify the required contents for 9 bag types. In this example, every faded blue bag is empty, every vibrant plum bag contains 11 bags (5 faded blue and 6 dotted black), and so on.\n",
    "\n",
    "You have a shiny gold bag. If you wanted to carry it in at least one other bag, how many different bag colors would be valid for the outermost bag? (In other words: how many colors can, eventually, contain at least one shiny gold bag?)\n",
    "\n",
    "In the above rules, the following options would be available to you:\n",
    "\n",
    "A bright white bag, which can hold your shiny gold bag directly.\n",
    "A muted yellow bag, which can hold your shiny gold bag directly, plus some other bags.\n",
    "A dark orange bag, which can hold bright white and muted yellow bags, either of which could then hold your shiny gold bag.\n",
    "A light red bag, which can hold bright white and muted yellow bags, either of which could then hold your shiny gold bag.\n",
    "So, in this example, the number of bag colors that can eventually contain at least one shiny gold bag is 4.\n",
    "\n",
    "How many bag colors can eventually contain at least one shiny gold bag? (The list of rules is quite long; make sure you get all of it.)"
   ]
  },
  {
   "cell_type": "code",
   "execution_count": 143,
   "metadata": {},
   "outputs": [],
   "source": [
    "def contains(f,s,q):\n",
    "    c=0\n",
    "    \n",
    "    for i in f:\n",
    "        if(s in i):\n",
    "            if(not i.find(s) ==0):\n",
    "                if(not (i[:i.find('bag')].strip() in q)):\n",
    "                    q.append(i[:i.find('bag')].strip())\n",
    "                    #print(q)\n",
    "                    c+=1\n",
    "                #print(q)\n",
    "            \n",
    "            \n",
    "    return c\n",
    "            \n",
    "#contains : checks if something is in queue and if not, adds it.\n",
    "#very DFS like logic\n",
    "#make sure you don't append the same item to the queue multiple times and chill."
   ]
  },
  {
   "cell_type": "code",
   "execution_count": 144,
   "metadata": {},
   "outputs": [
    {
     "name": "stdout",
     "output_type": "stream",
     "text": [
      "370\n"
     ]
    }
   ],
   "source": [
    "q=[]\n",
    "t=contains(f,'shiny gold',q)\n",
    "i=0\n",
    "\n",
    "while(i<len(q)):\n",
    "    t+=contains(f,q[i],q)\n",
    "    i+=1\n",
    "    \n",
    "    \n",
    "#make a queue, add everything, iterate through queue. DFS maxxxxx.\n",
    "\n",
    "print(t)"
   ]
  },
  {
   "cell_type": "code",
   "execution_count": null,
   "metadata": {},
   "outputs": [],
   "source": []
  },
  {
   "cell_type": "code",
   "execution_count": null,
   "metadata": {},
   "outputs": [],
   "source": [
    "\n",
    "\n",
    "    \n",
    "    "
   ]
  },
  {
   "cell_type": "code",
   "execution_count": 145,
   "metadata": {},
   "outputs": [],
   "source": [
    "dic={}\n",
    "for i in f:\n",
    "    a=i.find('contain')\n",
    "    b=i[a+7:].split()\n",
    "    \n",
    "    \n",
    "    for j in range(0,len(b),4):\n",
    "        z=i[:i.find('bag')].strip()\n",
    "        \n",
    "        if(z in dic):\n",
    "            dic[z].append([b[j],b[j+1].strip()+\" \"+b[j+2].strip()])\n",
    "            \n",
    "        else:\n",
    "            dic[z]=[[b[j],b[j+1].strip()+\" \"+b[j+2].strip()]]\n",
    "            #print(z)\n",
    "        \n",
    "        #print(dic)\n",
    "        \n",
    "        \n",
    "    \n",
    "\n",
    "    \n",
    "    "
   ]
  },
  {
   "cell_type": "markdown",
   "metadata": {},
   "source": [
    "# Part 2\n",
    "\n",
    "It's getting pretty expensive to fly these days - not because of ticket prices, but because of the ridiculous number of bags you need to buy!\n",
    "\n",
    "Consider again your shiny gold bag and the rules from the above example:\n",
    "\n",
    "faded blue bags contain 0 other bags.\n",
    "dotted black bags contain 0 other bags.\n",
    "vibrant plum bags contain 11 other bags: 5 faded blue bags and 6 dotted black bags.\n",
    "dark olive bags contain 7 other bags: 3 faded blue bags and 4 dotted black bags.\n",
    "So, a single shiny gold bag must contain 1 dark olive bag (and the 7 bags within it) plus 2 vibrant plum bags (and the 11 bags within each of those): 1 + 1*7 + 2 + 2*11 = 32 bags!\n",
    "\n",
    "Of course, the actual rules have a small chance of going several levels deeper than this example; be sure to count all of the bags, even if the nesting becomes topologically impractical!\n",
    "\n",
    "Here's another example:\n",
    "\n",
    "shiny gold bags contain 2 dark red bags.\n",
    "dark red bags contain 2 dark orange bags.\n",
    "dark orange bags contain 2 dark yellow bags.\n",
    "dark yellow bags contain 2 dark green bags.\n",
    "dark green bags contain 2 dark blue bags.\n",
    "dark blue bags contain 2 dark violet bags.\n",
    "dark violet bags contain no other bags.\n",
    "In this example, a single shiny gold bag must contain 126 other bags.\n",
    "\n",
    "How many individual bags are required inside your single shiny gold bag?"
   ]
  },
  {
   "cell_type": "code",
   "execution_count": 149,
   "metadata": {},
   "outputs": [],
   "source": [
    "def recurse(s):\n",
    "    t=0\n",
    "    a=dic[s]\n",
    "    #print(s,a)\n",
    "    for i in a:\n",
    "        if(i[0]=='no'):\n",
    "            return 0\n",
    "        t+=int(i[0])+int(i[0])*recurse(i[1])\n",
    "        \n",
    "        \n",
    "    return t\n",
    "#gotta find evertyhing that is in it and what is in each of those, so you \n",
    "#count the number of bags and you do a number of bags*whatever bags maybe in it.\n",
    "#base base: if there's not bags in it, there's 0 bags in it, haha (ingliss)\n",
    "\n",
    "    "
   ]
  },
  {
   "cell_type": "code",
   "execution_count": 150,
   "metadata": {},
   "outputs": [
    {
     "data": {
      "text/plain": [
       "29547"
      ]
     },
     "execution_count": 150,
     "metadata": {},
     "output_type": "execute_result"
    }
   ],
   "source": [
    "recurse('shiny gold')"
   ]
  },
  {
   "cell_type": "code",
   "execution_count": null,
   "metadata": {},
   "outputs": [],
   "source": []
  }
 ],
 "metadata": {
  "kernelspec": {
   "display_name": "Python 3",
   "language": "python",
   "name": "python3"
  },
  "language_info": {
   "codemirror_mode": {
    "name": "ipython",
    "version": 3
   },
   "file_extension": ".py",
   "mimetype": "text/x-python",
   "name": "python",
   "nbconvert_exporter": "python",
   "pygments_lexer": "ipython3",
   "version": "3.8.3"
  }
 },
 "nbformat": 4,
 "nbformat_minor": 4
}
