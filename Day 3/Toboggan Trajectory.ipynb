{
 "cells": [
  {
   "cell_type": "markdown",
   "metadata": {},
   "source": [
    "# Part -1 \n",
    "\n",
    "## [Find link to actual problem here, cuz why not](https://adventofcode.com/2020/day/3)\n",
    "\n",
    "With the toboggan login problems resolved, you set off toward the airport. While travel by toboggan might be easy, it's certainly not safe: there's very minimal steering and the area is covered in trees. You'll need to see which angles will take you near the fewest trees.\n",
    "\n",
    "Due to the local geology, trees in this area only grow on exact integer coordinates in a grid. You make a map (your puzzle input) of the open squares (.) and trees (#) you can see. For example:\n",
    "    \n",
    "    ..##.......   \n",
    "    #...#...#..   \n",
    "    .#....#..#.   \n",
    "    ..#.#...#.#   \n",
    "    .#...##..#.   \n",
    "    ..#.##.....    \n",
    "    .#.#.#....#    \n",
    "    .#........#   \n",
    "    #.##...#...   \n",
    "    #...##....#   \n",
    "    .#..#...#.#   \n",
    "    \n",
    "These aren't the only trees, though; due to something you read about once involving arboreal genetics and biome stability, the same pattern repeats to the right many times:\n",
    "\n",
    "    ..##.........##.........##.........##.........##.........##.......  --->     \n",
    "    #...#...#..#...#...#..#...#...#..#...#...#..#...#...#..#...#...#..     \n",
    "    .#....#..#..#....#..#..#....#..#..#....#..#..#....#..#..#....#..#.    \n",
    "    ..#.#...#.#..#.#...#.#..#.#...#.#..#.#...#.#..#.#...#.#..#.#...#.#   \n",
    "    .#...##..#..#...##..#..#...##..#..#...##..#..#...##..#..#...##..#.   \n",
    "    ..#.##.......#.##.......#.##.......#.##.......#.##.......#.##.....  --->   \n",
    "    .#.#.#....#.#.#.#....#.#.#.#....#.#.#.#....#.#.#.#....#.#.#.#....#    \n",
    "    .#........#.#........#.#........#.#........#.#........#.#........#    \n",
    "    #.##...#...#.##...#...#.##...#...#.##...#...#.##...#...#.##...#...    \n",
    "    #...##....##...##....##...##....##...##....##...##....##...##....#    \n",
    "    .#..#...#.#.#..#...#.#.#..#...#.#.#..#...#.#.#..#...#.#.#..#...#.#  --->     \n",
    "You start on the open square (.) in the top-left corner and need to reach the bottom (below the bottom-most row on your map).\n",
    "\n",
    "The toboggan can only follow a few specific slopes (you opted for a cheaper model that prefers rational numbers); start by counting all the trees you would encounter for the slope right 3, down 1:\n",
    "\n",
    "From your starting position at the top-left, check the position that is right 3 and down 1. Then, check the position that is right 3 and down 1 from there, and so on until you go past the bottom of the map.\n",
    "\n",
    "The locations you'd check in the above example are marked here with O where there was an open square and X where there was a tree:\n",
    "\n",
    "    ..##.........##.........##.........##.........##.........##.......  --->    \n",
    "    #..O#...#..#...#...#..#...#...#..#...#...#..#...#...#..#...#...#..   \n",
    "    .#....X..#..#....#..#..#....#..#..#....#..#..#....#..#..#....#..#.   \n",
    "    ..#.#...#O#..#.#...#.#..#.#...#.#..#.#...#.#..#.#...#.#..#.#...#.#    \n",
    "    .#...##..#..X...##..#..#...##..#..#...##..#..#...##..#..#...##..#.    \n",
    "    ..#.##.......#.X#.......#.##.......#.##.......#.##.......#.##.....  --->    \n",
    "    .#.#.#....#.#.#.#.O..#.#.#.#....#.#.#.#....#.#.#.#....#.#.#.#....#    \n",
    "    .#........#.#........X.#........#.#........#.#........#.#........#     \n",
    "    #.##...#...#.##...#...#.X#...#...#.##...#...#.##...#...#.##...#...     \n",
    "    #...##....##...##....##...#X....##...##....##...##....##...##....#     \n",
    "    .#..#...#.#.#..#...#.#.#..#...X.#.#..#...#.#.#..#...#.#.#..#...#.#  --->     \n",
    "In this example, traversing the map using this slope would cause you to encounter 7 trees.    \n",
    "\n",
    "Starting at the top-left corner of your map and following a slope of right 3 and down 1, how many trees would you encounter?"
   ]
  },
  {
   "cell_type": "code",
   "execution_count": 4,
   "metadata": {},
   "outputs": [
    {
     "name": "stdout",
     "output_type": "stream",
     "text": [
      "[1, 1] \t 77\n",
      "[3, 1] \t 218\n",
      "[5, 1] \t 65\n",
      "[7, 1] \t 82\n",
      "[1, 2] \t 43\n",
      "3847183340\n"
     ]
    }
   ],
   "source": [
    "f = open(\"input.txt\", \"r\")\n",
    "i=0\n",
    "c=0\n",
    "\n",
    "s=1\n",
    "f=list(f)\n",
    "l=len(f[0])-1\n",
    "#print(f)\n",
    "lis=[[1,1],[3,1],[5,1],[7,1],[1,2]]\n",
    "for j in lis:\n",
    "    i=0\n",
    "    c=0\n",
    "    line=j[1]\n",
    "    while(line<len(f)):\n",
    "        if(f[line][(i+j[0])%l]=='#'):\n",
    "            c+=1\n",
    "        i=(i+j[0])%l\n",
    "        #print(i,line)\n",
    "        line+=j[1]\n",
    "    print(j,\"\\t\",c)\n",
    "    s*=c\n",
    "    \n",
    "\n",
    "\n",
    "print(s)\n",
    "    \n"
   ]
  },
  {
   "cell_type": "markdown",
   "metadata": {},
   "source": [
    "# Part -2 also gets solved above \n",
    "\n",
    "Time to check the rest of the slopes - you need to minimize the probability of a sudden arboreal stop, after all.\n",
    "\n",
    "Determine the number of trees you would encounter if, for each of the following slopes, you start at the top-left corner and traverse the map all the way to the bottom:\n",
    "\n",
    "Right 1, down 1.\n",
    "Right 3, down 1. (This is the slope you already checked.)\n",
    "Right 5, down 1.\n",
    "Right 7, down 1.\n",
    "Right 1, down 2.\n",
    "In the above example, these slopes would find 2, 7, 3, 4, and 2 tree(s) respectively; multiplied together, these produce the answer 336.\n",
    "\n",
    "What do you get if you multiply together the number of trees encountered on each of the listed slopes?"
   ]
  },
  {
   "cell_type": "code",
   "execution_count": null,
   "metadata": {},
   "outputs": [],
   "source": []
  }
 ],
 "metadata": {
  "kernelspec": {
   "display_name": "Python 3",
   "language": "python",
   "name": "python3"
  },
  "language_info": {
   "codemirror_mode": {
    "name": "ipython",
    "version": 3
   },
   "file_extension": ".py",
   "mimetype": "text/x-python",
   "name": "python",
   "nbconvert_exporter": "python",
   "pygments_lexer": "ipython3",
   "version": "3.8.3"
  }
 },
 "nbformat": 4,
 "nbformat_minor": 4
}
