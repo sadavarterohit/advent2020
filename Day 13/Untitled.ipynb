{
 "cells": [
  {
   "cell_type": "code",
   "execution_count": 6,
   "metadata": {},
   "outputs": [
    {
     "name": "stdout",
     "output_type": "stream",
     "text": [
      "939\n",
      "7,13,x,x,59,x,31,19\n",
      "[7, 13, 59, 31, 19]\n"
     ]
    }
   ],
   "source": [
    "t=int(input())\n",
    "buses=input().split(',')\n",
    "j=[]\n",
    "for i in buses:\n",
    "    try:\n",
    "        j.append(int(i))\n",
    "    except:\n",
    "        pass\n",
    "    \n",
    "print(j)"
   ]
  },
  {
   "cell_type": "code",
   "execution_count": 5,
   "metadata": {},
   "outputs": [
    {
     "name": "stdout",
     "output_type": "stream",
     "text": [
      "259\n"
     ]
    }
   ],
   "source": [
    "broken=False\n",
    "temp=t\n",
    "\n",
    "while(True):\n",
    "    for i in j:\n",
    "        if(temp%i==0):\n",
    "            print((temp-t)*i)\n",
    "            broken=True\n",
    "            break\n",
    "    temp+=1\n",
    "    if(broken):\n",
    "        break\n",
    "        "
   ]
  },
  {
   "cell_type": "code",
   "execution_count": 54,
   "metadata": {},
   "outputs": [
    {
     "name": "stdout",
     "output_type": "stream",
     "text": [
      "1000510\n",
      "19,x,x,x,x,x,x,x,x,41,x,x,x,x,x,x,x,x,x,523,x,x,x,x,x,x,x,x,x,x,x,x,x,x,x,x,17,13,x,x,x,x,x,x,x,x,x,x,29,x,853,x,x,x,x,x,37,x,x,x,x,x,x,x,x,x,x,x,x,x,x,x,x,23\n"
     ]
    }
   ],
   "source": [
    "t=int(input())\n",
    "buses=input().split(',')\n"
   ]
  },
  {
   "cell_type": "code",
   "execution_count": 55,
   "metadata": {},
   "outputs": [
    {
     "name": "stdout",
     "output_type": "stream",
     "text": [
      "853 50\n"
     ]
    }
   ],
   "source": [
    "maximum_value=0\n",
    "maximum_index=0\n",
    "for i in range(len(buses)):\n",
    "    if(buses[i].isnumeric() and int(buses[i])>maximum_value):\n",
    "        maximum_value=int(buses[i])\n",
    "        maximum_index=i\n",
    "        \n",
    "print(maximum_value, maximum_index)"
   ]
  },
  {
   "cell_type": "code",
   "execution_count": 56,
   "metadata": {},
   "outputs": [
    {
     "name": "stdout",
     "output_type": "stream",
     "text": [
      "1000519\n"
     ]
    }
   ],
   "source": [
    "broken=False\n",
    "temp=t\n",
    "while(True):\n",
    "    if(temp%maximum_value==0):\n",
    "        break\n",
    "    else:\n",
    "        temp+=1\n",
    "        \n",
    "        \n",
    "print(temp-maximum_index)\n",
    "            \n",
    "temp=temp-maximum_index\n",
    "            "
   ]
  },
  {
   "cell_type": "code",
   "execution_count": null,
   "metadata": {},
   "outputs": [],
   "source": [
    "while(True):\n",
    "    c=0\n",
    "    brokenf=False\n",
    "    for i in buses:\n",
    "        if(i.isnumeric()):\n",
    "            if((temp+c)%int(buses[c])==0):\n",
    "                c+=1\n",
    "            else:\n",
    "                c=0\n",
    "                brokenf=True\n",
    "                break\n",
    "            \n",
    "        else:\n",
    "            c+=1\n",
    "        if(brokenf):\n",
    "            break\n",
    "    if(c==len(buses)):\n",
    "        print(temp)\n",
    "        break\n",
    "    temp+=int(maximum_value)\n",
    "    "
   ]
  },
  {
   "cell_type": "code",
   "execution_count": null,
   "metadata": {},
   "outputs": [],
   "source": []
  }
 ],
 "metadata": {
  "kernelspec": {
   "display_name": "Python 3",
   "language": "python",
   "name": "python3"
  },
  "language_info": {
   "codemirror_mode": {
    "name": "ipython",
    "version": 3
   },
   "file_extension": ".py",
   "mimetype": "text/x-python",
   "name": "python",
   "nbconvert_exporter": "python",
   "pygments_lexer": "ipython3",
   "version": "3.8.3"
  }
 },
 "nbformat": 4,
 "nbformat_minor": 4
}
